{
 "cells": [
  {
   "cell_type": "markdown",
   "id": "dfb925c7",
   "metadata": {},
   "source": [
    "[A data set](https://www.kaggle.com/datasets/lava18/google-play-store-apps) containing data about approximately 10,000 Android apps from Google Play; the data was collected in August 2018. You can download the data set directly from download [this link](googleplaystore.csv).</p>\n",
    "[A data set](https://www.kaggle.com/datasets/ramamet4/app-store-apple-data-set-10k-apps) containing data about approximately 7,000 iOS apps from the App Store; the data was collected in July 2017. You can download the data set directly from [this link](AppleStore.csv)."
   ]
  },
  {
   "cell_type": "code",
   "execution_count": 1,
   "id": "8ad0fb1b",
   "metadata": {},
   "outputs": [],
   "source": [
    "from csv import reader\n",
    "\n",
    "# The Google Play dataset #\n",
    "opened_file_1 = open('googleplaystore.csv', encoding='utf8')\n",
    "read_file_1 = reader(opened_file_1)\n",
    "android = list(read_file_1)\n",
    "android_header = android[0]\n",
    "android = android[1:]\n",
    "\n",
    "# The App Store dataset\n",
    "opened_file_2 = open('AppleStore.csv', encoding='utf8')\n",
    "read_file_2 = reader(opened_file_2)\n",
    "ios = list(read_file_2)\n",
    "ios_header = ios[0]\n",
    "ios = ios[1:]"
   ]
  },
  {
   "cell_type": "code",
   "execution_count": 2,
   "id": "af4043a4",
   "metadata": {},
   "outputs": [],
   "source": [
    "def explore_data(dataset, start, end, rows_and_columns=False):\n",
    "    dataset_slice = dataset[start:end]\n",
    "    for row in dataset_slice:\n",
    "        print(row)\n",
    "        print('\\n')\n",
    "        \n",
    "    if rows_and_columns:\n",
    "        print('Number of rows: ', len(dataset))\n",
    "        print('Number of columns: ', len(dataset[0]))"
   ]
  },
  {
   "cell_type": "markdown",
   "id": "c5c6c27b",
   "metadata": {},
   "source": [
    "### Explore the Google Play dataset:"
   ]
  },
  {
   "cell_type": "code",
   "execution_count": 3,
   "id": "8232d86e",
   "metadata": {},
   "outputs": [
    {
     "name": "stdout",
     "output_type": "stream",
     "text": [
      "['App', 'Category', 'Rating', 'Reviews', 'Size', 'Installs', 'Type', 'Price', 'Content Rating', 'Genres', 'Last Updated', 'Current Ver', 'Android Ver']\n",
      "\n",
      "\n",
      "['Photo Editor & Candy Camera & Grid & ScrapBook', 'ART_AND_DESIGN', '4.1', '159', '19M', '10,000+', 'Free', '0', 'Everyone', 'Art & Design', 'January 7, 2018', '1.0.0', '4.0.3 and up']\n",
      "\n",
      "\n",
      "['Coloring book moana', 'ART_AND_DESIGN', '3.9', '967', '14M', '500,000+', 'Free', '0', 'Everyone', 'Art & Design;Pretend Play', 'January 15, 2018', '2.0.0', '4.0.3 and up']\n",
      "\n",
      "\n",
      "['U Launcher Lite – FREE Live Cool Themes, Hide Apps', 'ART_AND_DESIGN', '4.7', '87510', '8.7M', '5,000,000+', 'Free', '0', 'Everyone', 'Art & Design', 'August 1, 2018', '1.2.4', '4.0.3 and up']\n",
      "\n",
      "\n",
      "Number of rows:  10841\n",
      "Number of columns:  13\n"
     ]
    }
   ],
   "source": [
    "print(android_header)\n",
    "print('\\n')\n",
    "explore_data(android, 0, 3, True)"
   ]
  },
  {
   "cell_type": "markdown",
   "id": "238cfef7",
   "metadata": {},
   "source": [
    "### Explore the App Store dataset:"
   ]
  },
  {
   "cell_type": "code",
   "execution_count": 4,
   "id": "d311bd1b",
   "metadata": {},
   "outputs": [
    {
     "name": "stdout",
     "output_type": "stream",
     "text": [
      "['id', 'track_name', 'size_bytes', 'currency', 'price', 'rating_count_tot', 'rating_count_ver', 'user_rating', 'user_rating_ver', 'ver', 'cont_rating', 'prime_genre', 'sup_devices.num', 'ipadSc_urls.num', 'lang.num', 'vpp_lic']\n",
      "\n",
      "\n",
      "['284882215', 'Facebook', '389879808', 'USD', '0.0', '2974676', '212', '3.5', '3.5', '95.0', '4+', 'Social Networking', '37', '1', '29', '1']\n",
      "\n",
      "\n",
      "['389801252', 'Instagram', '113954816', 'USD', '0.0', '2161558', '1289', '4.5', '4.0', '10.23', '12+', 'Photo & Video', '37', '0', '29', '1']\n",
      "\n",
      "\n",
      "['529479190', 'Clash of Clans', '116476928', 'USD', '0.0', '2130805', '579', '4.5', '4.5', '9.24.12', '9+', 'Games', '38', '5', '18', '1']\n",
      "\n",
      "\n",
      "Number of rows:  7197\n",
      "Number of columns:  16\n"
     ]
    }
   ],
   "source": [
    "print(ios_header)\n",
    "print('\\n')\n",
    "explore_data(ios, 0, 3, True)"
   ]
  },
  {
   "cell_type": "code",
   "execution_count": 5,
   "id": "608f47d4",
   "metadata": {},
   "outputs": [
    {
     "name": "stdout",
     "output_type": "stream",
     "text": [
      "['Life Made WI-Fi Touchscreen Photo Frame', '1.9', '19', '3.0M', '1,000+', 'Free', '0', 'Everyone', '', 'February 11, 2018', '1.0.19', '4.0 and up']\n",
      "\n",
      "\n",
      "['App', 'Category', 'Rating', 'Reviews', 'Size', 'Installs', 'Type', 'Price', 'Content Rating', 'Genres', 'Last Updated', 'Current Ver', 'Android Ver']\n",
      "\n",
      "\n",
      "['Photo Editor & Candy Camera & Grid & ScrapBook', 'ART_AND_DESIGN', '4.1', '159', '19M', '10,000+', 'Free', '0', 'Everyone', 'Art & Design', 'January 7, 2018', '1.0.0', '4.0.3 and up']\n"
     ]
    }
   ],
   "source": [
    "print(android[10472])\n",
    "print('\\n')\n",
    "print(android_header)\n",
    "print('\\n')\n",
    "print(android[0])"
   ]
  },
  {
   "cell_type": "markdown",
   "id": "39659ca1",
   "metadata": {},
   "source": [
    "### Delete wrong data"
   ]
  },
  {
   "cell_type": "code",
   "execution_count": 6,
   "id": "285b500f",
   "metadata": {},
   "outputs": [
    {
     "name": "stdout",
     "output_type": "stream",
     "text": [
      "10841\n",
      "10840\n"
     ]
    }
   ],
   "source": [
    "print(len(android))\n",
    "del(android[10472])\n",
    "print(len(android))"
   ]
  },
  {
   "cell_type": "markdown",
   "id": "a17433c1",
   "metadata": {},
   "source": [
    "### Remove duplicate entries:"
   ]
  },
  {
   "cell_type": "markdown",
   "id": "454c7afa",
   "metadata": {},
   "source": [
    "#### Part one:"
   ]
  },
  {
   "cell_type": "markdown",
   "id": "13c1d530",
   "metadata": {},
   "source": [
    "Example of duplicate entries in the Google Play dataset:"
   ]
  },
  {
   "cell_type": "code",
   "execution_count": 7,
   "id": "f0eece1d",
   "metadata": {},
   "outputs": [
    {
     "name": "stdout",
     "output_type": "stream",
     "text": [
      "['Instagram', 'SOCIAL', '4.5', '66577313', 'Varies with device', '1,000,000,000+', 'Free', '0', 'Teen', 'Social', 'July 31, 2018', 'Varies with device', 'Varies with device']\n",
      "['Instagram', 'SOCIAL', '4.5', '66577446', 'Varies with device', '1,000,000,000+', 'Free', '0', 'Teen', 'Social', 'July 31, 2018', 'Varies with device', 'Varies with device']\n",
      "['Instagram', 'SOCIAL', '4.5', '66577313', 'Varies with device', '1,000,000,000+', 'Free', '0', 'Teen', 'Social', 'July 31, 2018', 'Varies with device', 'Varies with device']\n",
      "['Instagram', 'SOCIAL', '4.5', '66509917', 'Varies with device', '1,000,000,000+', 'Free', '0', 'Teen', 'Social', 'July 31, 2018', 'Varies with device', 'Varies with device']\n"
     ]
    }
   ],
   "source": [
    "for app in android:\n",
    "    name = app[0]\n",
    "    if name == 'Instagram':\n",
    "        print(app)"
   ]
  },
  {
   "cell_type": "markdown",
   "id": "be709a1c",
   "metadata": {},
   "source": [
    "Remove duplicate entries in the Google Play dataset:"
   ]
  },
  {
   "cell_type": "code",
   "execution_count": 8,
   "id": "c04c859d",
   "metadata": {},
   "outputs": [
    {
     "name": "stdout",
     "output_type": "stream",
     "text": [
      "Number of duplicate apps:  1181\n",
      "\n",
      "\n",
      "Example of duplicate apps:  ['Quick PDF Scanner + OCR FREE', 'Box', 'Google My Business', 'ZOOM Cloud Meetings', 'join.me - Simple Meetings', 'Box', 'Zenefits', 'Google Ads', 'Google My Business', 'Slack']\n"
     ]
    }
   ],
   "source": [
    "duplicate_apps = []\n",
    "unique_apps = []\n",
    "\n",
    "for app in android:\n",
    "    name = app[0]\n",
    "    if name in unique_apps:\n",
    "        duplicate_apps.append(name)\n",
    "    else:\n",
    "        unique_apps.append(name)\n",
    "        \n",
    "print('Number of duplicate apps: ', len(duplicate_apps))\n",
    "print('\\n')\n",
    "print('Example of duplicate apps: ', duplicate_apps[:10])"
   ]
  },
  {
   "cell_type": "markdown",
   "id": "67cafc28",
   "metadata": {},
   "source": [
    "#### Part two:"
   ]
  },
  {
   "cell_type": "code",
   "execution_count": 9,
   "id": "e9f2e4ca",
   "metadata": {},
   "outputs": [],
   "source": [
    "reviews_max = {}\n",
    "\n",
    "for app in android:\n",
    "    name = app[0]\n",
    "    n_reviews = float(app[3])\n",
    "    \n",
    "    if name in reviews_max and reviews_max[name] < n_reviews:\n",
    "        reviews_max[name] = n_reviews\n",
    "    elif name not in reviews_max:\n",
    "        reviews_max[name] = n_reviews  "
   ]
  },
  {
   "cell_type": "code",
   "execution_count": 10,
   "id": "de3cc70d",
   "metadata": {},
   "outputs": [
    {
     "name": "stdout",
     "output_type": "stream",
     "text": [
      "Expected length:  9659\n",
      "Actual length:  9659\n"
     ]
    }
   ],
   "source": [
    "print('Expected length: ', len(android) - len(duplicate_apps))\n",
    "print('Actual length: ', len(reviews_max))"
   ]
  },
  {
   "cell_type": "code",
   "execution_count": 11,
   "id": "764dee87",
   "metadata": {},
   "outputs": [],
   "source": [
    "android_clean = []\n",
    "already_added = []\n",
    "\n",
    "for app in android:\n",
    "    name = app[0]\n",
    "    n_reviews = float(app[3])\n",
    "    \n",
    "    if n_reviews == reviews_max[name] and name not in already_added:\n",
    "        android_clean.append(app)\n",
    "        already_added.append(name)\n",
    "        \n",
    "    "
   ]
  },
  {
   "cell_type": "code",
   "execution_count": 12,
   "id": "798da4cc",
   "metadata": {},
   "outputs": [
    {
     "name": "stdout",
     "output_type": "stream",
     "text": [
      "['Photo Editor & Candy Camera & Grid & ScrapBook', 'ART_AND_DESIGN', '4.1', '159', '19M', '10,000+', 'Free', '0', 'Everyone', 'Art & Design', 'January 7, 2018', '1.0.0', '4.0.3 and up']\n",
      "\n",
      "\n",
      "['U Launcher Lite – FREE Live Cool Themes, Hide Apps', 'ART_AND_DESIGN', '4.7', '87510', '8.7M', '5,000,000+', 'Free', '0', 'Everyone', 'Art & Design', 'August 1, 2018', '1.2.4', '4.0.3 and up']\n",
      "\n",
      "\n",
      "['Sketch - Draw & Paint', 'ART_AND_DESIGN', '4.5', '215644', '25M', '50,000,000+', 'Free', '0', 'Teen', 'Art & Design', 'June 8, 2018', 'Varies with device', '4.2 and up']\n",
      "\n",
      "\n",
      "Number of rows:  9659\n",
      "Number of columns:  13\n"
     ]
    }
   ],
   "source": [
    "explore_data(android_clean, 0, 3, True)"
   ]
  },
  {
   "cell_type": "markdown",
   "id": "fef3ee57",
   "metadata": {},
   "source": [
    "### Remove non-English apps:"
   ]
  },
  {
   "cell_type": "markdown",
   "id": "af13148b",
   "metadata": {},
   "source": [
    "#### Part one:"
   ]
  },
  {
   "cell_type": "code",
   "execution_count": 13,
   "id": "71baf99a",
   "metadata": {},
   "outputs": [],
   "source": [
    "def is_english(string):\n",
    "    \n",
    "    for character in string:\n",
    "        if ord(character) > 127:\n",
    "            return False\n",
    "        \n",
    "    return True      "
   ]
  },
  {
   "cell_type": "code",
   "execution_count": 14,
   "id": "968f3dd4",
   "metadata": {},
   "outputs": [
    {
     "name": "stdout",
     "output_type": "stream",
     "text": [
      "True\n",
      "False\n",
      "False\n",
      "False\n",
      "8482\n",
      "128540\n"
     ]
    }
   ],
   "source": [
    "print(is_english('Instagram'))\n",
    "print(is_english('爱奇艺PPS -《欢乐颂2》电视剧热播'))\n",
    "print(is_english('Docs To Go™ Free Office Suite'))\n",
    "print(is_english('Instachat 😜'))\n",
    "print(ord('™'))\n",
    "print(ord('😜'))"
   ]
  },
  {
   "cell_type": "markdown",
   "id": "069e23c9",
   "metadata": {},
   "source": [
    "#### Part two:"
   ]
  },
  {
   "cell_type": "code",
   "execution_count": 15,
   "id": "e992ec91",
   "metadata": {},
   "outputs": [
    {
     "name": "stdout",
     "output_type": "stream",
     "text": [
      "True\n",
      "True\n"
     ]
    }
   ],
   "source": [
    "def is_english(string):\n",
    "    non_ascii = 0\n",
    "    \n",
    "    for character in string:\n",
    "        if ord(character) > 127:\n",
    "            non_ascii += 1\n",
    "            \n",
    "    if non_ascii > 3:\n",
    "        return False\n",
    "    else:\n",
    "        return True\n",
    "    \n",
    "    \n",
    "print(is_english('Docs To Go™ Free Office Suite'))\n",
    "print(is_english('Instachat 😜'))"
   ]
  },
  {
   "cell_type": "code",
   "execution_count": 16,
   "id": "be1ccaf6",
   "metadata": {},
   "outputs": [
    {
     "name": "stdout",
     "output_type": "stream",
     "text": [
      "['Photo Editor & Candy Camera & Grid & ScrapBook', 'ART_AND_DESIGN', '4.1', '159', '19M', '10,000+', 'Free', '0', 'Everyone', 'Art & Design', 'January 7, 2018', '1.0.0', '4.0.3 and up']\n",
      "\n",
      "\n",
      "['U Launcher Lite – FREE Live Cool Themes, Hide Apps', 'ART_AND_DESIGN', '4.7', '87510', '8.7M', '5,000,000+', 'Free', '0', 'Everyone', 'Art & Design', 'August 1, 2018', '1.2.4', '4.0.3 and up']\n",
      "\n",
      "\n",
      "['Sketch - Draw & Paint', 'ART_AND_DESIGN', '4.5', '215644', '25M', '50,000,000+', 'Free', '0', 'Teen', 'Art & Design', 'June 8, 2018', 'Varies with device', '4.2 and up']\n",
      "\n",
      "\n",
      "Number of rows:  9614\n",
      "Number of columns:  13\n",
      "\n",
      "\n",
      "['284882215', 'Facebook', '389879808', 'USD', '0.0', '2974676', '212', '3.5', '3.5', '95.0', '4+', 'Social Networking', '37', '1', '29', '1']\n",
      "\n",
      "\n",
      "['389801252', 'Instagram', '113954816', 'USD', '0.0', '2161558', '1289', '4.5', '4.0', '10.23', '12+', 'Photo & Video', '37', '0', '29', '1']\n",
      "\n",
      "\n",
      "['529479190', 'Clash of Clans', '116476928', 'USD', '0.0', '2130805', '579', '4.5', '4.5', '9.24.12', '9+', 'Games', '38', '5', '18', '1']\n",
      "\n",
      "\n",
      "Number of rows:  6183\n",
      "Number of columns:  16\n"
     ]
    }
   ],
   "source": [
    "android_english = []\n",
    "ios_english = []\n",
    "\n",
    "for app in android_clean:\n",
    "    name = app[0]\n",
    "    if is_english(name):\n",
    "        android_english.append(app)\n",
    "        \n",
    "for app in ios:\n",
    "    name = app[1]\n",
    "    if is_english(name):\n",
    "        ios_english.append(app)\n",
    "        \n",
    "        \n",
    "explore_data(android_english, 0, 3, True)\n",
    "print('\\n')\n",
    "explore_data(ios_english, 0, 3, True)"
   ]
  },
  {
   "cell_type": "markdown",
   "id": "cec6831c",
   "metadata": {},
   "source": [
    "### Isolating free apps:"
   ]
  },
  {
   "cell_type": "code",
   "execution_count": 17,
   "id": "6c7771d0",
   "metadata": {},
   "outputs": [
    {
     "name": "stdout",
     "output_type": "stream",
     "text": [
      "8864\n",
      "3222\n"
     ]
    }
   ],
   "source": [
    "android_final = []\n",
    "ios_final = []\n",
    "\n",
    "for app in android_english:\n",
    "    price = app[7]\n",
    "    if price == '0':\n",
    "        android_final.append(app)\n",
    "        \n",
    "for app in ios_english:\n",
    "    price = app[4]\n",
    "    if price == '0.0':\n",
    "        ios_final.append(app)\n",
    "        \n",
    "print(len(android_final))\n",
    "print(len(ios_final))"
   ]
  },
  {
   "cell_type": "markdown",
   "id": "0ccfbf24",
   "metadata": {},
   "source": [
    "### Most common apps by Genre:"
   ]
  },
  {
   "cell_type": "markdown",
   "id": "bbdae140",
   "metadata": {},
   "source": [
    "#### Part one:"
   ]
  },
  {
   "cell_type": "code",
   "execution_count": 18,
   "id": "05ffe4bd",
   "metadata": {},
   "outputs": [],
   "source": [
    "def freq_table(dataset, index):\n",
    "    table = {}\n",
    "    total = 0\n",
    "    \n",
    "    for row in dataset:\n",
    "        total += 1\n",
    "        value = row[index]\n",
    "        \n",
    "        if value in table:\n",
    "            table[value] += 1\n",
    "        else:\n",
    "            table[value] = 1\n",
    "            \n",
    "    table_percentages = {}\n",
    "    for key in table:\n",
    "        percentage = (table[key]/total) * 100\n",
    "        table_percentages[key] = percentage\n",
    "        \n",
    "    return table_percentages\n",
    "\n",
    "\n",
    "\n",
    "def display_table(dataset, index):\n",
    "    table = freq_table(dataset, index)\n",
    "    table_display = []\n",
    "    \n",
    "    for key in table:\n",
    "        key_value_as_tuple = (table[key],key)\n",
    "        table_display.append(key_value_as_tuple)\n",
    "        \n",
    "    table_sorted = sorted(table_display, reverse=True)\n",
    "    for entry in table_sorted:\n",
    "        print(entry[1], ': ', entry[0])"
   ]
  },
  {
   "cell_type": "markdown",
   "id": "5f7da464",
   "metadata": {},
   "source": [
    "#### Part three:"
   ]
  },
  {
   "cell_type": "markdown",
   "id": "ee5ff83e",
   "metadata": {},
   "source": [
    "Analyze the frequency table generated for the prime_genre column of the App Store dataset."
   ]
  },
  {
   "cell_type": "code",
   "execution_count": 19,
   "id": "f7d97d92",
   "metadata": {},
   "outputs": [
    {
     "name": "stdout",
     "output_type": "stream",
     "text": [
      "Games :  58.16263190564867\n",
      "Entertainment :  7.883302296710118\n",
      "Photo & Video :  4.9658597144630665\n",
      "Education :  3.662321539416512\n",
      "Social Networking :  3.2898820608317814\n",
      "Shopping :  2.60707635009311\n",
      "Utilities :  2.5139664804469275\n",
      "Sports :  2.1415270018621975\n",
      "Music :  2.0484171322160147\n",
      "Health & Fitness :  2.0173805090006205\n",
      "Productivity :  1.7380509000620732\n",
      "Lifestyle :  1.5828677839851024\n",
      "News :  1.3345747982619491\n",
      "Travel :  1.2414649286157666\n",
      "Finance :  1.1173184357541899\n",
      "Weather :  0.8690254500310366\n",
      "Food & Drink :  0.8069522036002483\n",
      "Reference :  0.5586592178770949\n",
      "Business :  0.5276225946617008\n",
      "Book :  0.4345127250155183\n",
      "Navigation :  0.186219739292365\n",
      "Medical :  0.186219739292365\n",
      "Catalogs :  0.12414649286157665\n"
     ]
    }
   ],
   "source": [
    "display_table(ios_final, -5)"
   ]
  },
  {
   "cell_type": "markdown",
   "id": "0f995a53",
   "metadata": {},
   "source": [
    "The most common genre is 'Games'.</p>\n",
    "The general impression is that most of the apps are designed for entertainment with three most common genres are Games, Entertainment, Photo & Video. But we could not deduce that apps of thses genres generally have a large number of users."
   ]
  },
  {
   "cell_type": "markdown",
   "id": "85dcd6ab",
   "metadata": {},
   "source": [
    "Analyze the frequency table you generated for the Category and Genres column of the Google Play dataset."
   ]
  },
  {
   "cell_type": "code",
   "execution_count": 20,
   "id": "ef3c00d1",
   "metadata": {},
   "outputs": [
    {
     "name": "stdout",
     "output_type": "stream",
     "text": [
      "FAMILY :  18.907942238267147\n",
      "GAME :  9.724729241877256\n",
      "TOOLS :  8.461191335740072\n",
      "BUSINESS :  4.591606498194946\n",
      "LIFESTYLE :  3.9034296028880866\n",
      "PRODUCTIVITY :  3.892148014440433\n",
      "FINANCE :  3.7003610108303246\n",
      "MEDICAL :  3.531137184115524\n",
      "SPORTS :  3.395758122743682\n",
      "PERSONALIZATION :  3.3167870036101084\n",
      "COMMUNICATION :  3.2378158844765346\n",
      "HEALTH_AND_FITNESS :  3.0798736462093865\n",
      "PHOTOGRAPHY :  2.944494584837545\n",
      "NEWS_AND_MAGAZINES :  2.7978339350180503\n",
      "SOCIAL :  2.6624548736462095\n",
      "TRAVEL_AND_LOCAL :  2.33528880866426\n",
      "SHOPPING :  2.2450361010830324\n",
      "BOOKS_AND_REFERENCE :  2.1435018050541514\n",
      "DATING :  1.861462093862816\n",
      "VIDEO_PLAYERS :  1.7937725631768955\n",
      "MAPS_AND_NAVIGATION :  1.3989169675090252\n",
      "FOOD_AND_DRINK :  1.2409747292418771\n",
      "EDUCATION :  1.1620036101083033\n",
      "ENTERTAINMENT :  0.9589350180505415\n",
      "LIBRARIES_AND_DEMO :  0.9363718411552346\n",
      "AUTO_AND_VEHICLES :  0.9250902527075812\n",
      "HOUSE_AND_HOME :  0.8235559566787004\n",
      "WEATHER :  0.8009927797833934\n",
      "EVENTS :  0.7107400722021661\n",
      "PARENTING :  0.6543321299638989\n",
      "ART_AND_DESIGN :  0.6430505415162455\n",
      "COMICS :  0.6204873646209386\n",
      "BEAUTY :  0.5979241877256317\n"
     ]
    }
   ],
   "source": [
    "display_table(android_final, 1) # Category"
   ]
  },
  {
   "cell_type": "code",
   "execution_count": 21,
   "id": "05593d24",
   "metadata": {},
   "outputs": [
    {
     "name": "stdout",
     "output_type": "stream",
     "text": [
      "Tools :  8.449909747292418\n",
      "Entertainment :  6.069494584837545\n",
      "Education :  5.347472924187725\n",
      "Business :  4.591606498194946\n",
      "Productivity :  3.892148014440433\n",
      "Lifestyle :  3.892148014440433\n",
      "Finance :  3.7003610108303246\n",
      "Medical :  3.531137184115524\n",
      "Sports :  3.463447653429603\n",
      "Personalization :  3.3167870036101084\n",
      "Communication :  3.2378158844765346\n",
      "Action :  3.1024368231046933\n",
      "Health & Fitness :  3.0798736462093865\n",
      "Photography :  2.944494584837545\n",
      "News & Magazines :  2.7978339350180503\n",
      "Social :  2.6624548736462095\n",
      "Travel & Local :  2.3240072202166067\n",
      "Shopping :  2.2450361010830324\n",
      "Books & Reference :  2.1435018050541514\n",
      "Simulation :  2.0419675090252705\n",
      "Dating :  1.861462093862816\n",
      "Arcade :  1.8501805054151623\n",
      "Video Players & Editors :  1.7712093862815883\n",
      "Casual :  1.7599277978339352\n",
      "Maps & Navigation :  1.3989169675090252\n",
      "Food & Drink :  1.2409747292418771\n",
      "Puzzle :  1.128158844765343\n",
      "Racing :  0.9927797833935018\n",
      "Role Playing :  0.9363718411552346\n",
      "Libraries & Demo :  0.9363718411552346\n",
      "Auto & Vehicles :  0.9250902527075812\n",
      "Strategy :  0.9138086642599278\n",
      "House & Home :  0.8235559566787004\n",
      "Weather :  0.8009927797833934\n",
      "Events :  0.7107400722021661\n",
      "Adventure :  0.6768953068592057\n",
      "Comics :  0.6092057761732852\n",
      "Beauty :  0.5979241877256317\n",
      "Art & Design :  0.5979241877256317\n",
      "Parenting :  0.4963898916967509\n",
      "Card :  0.45126353790613716\n",
      "Casino :  0.42870036101083037\n",
      "Trivia :  0.41741877256317694\n",
      "Educational;Education :  0.39485559566787\n",
      "Board :  0.3835740072202166\n",
      "Educational :  0.3722924187725632\n",
      "Education;Education :  0.33844765342960287\n",
      "Word :  0.2594765342960289\n",
      "Casual;Pretend Play :  0.236913357400722\n",
      "Music :  0.2030685920577617\n",
      "Racing;Action & Adventure :  0.16922382671480143\n",
      "Puzzle;Brain Games :  0.16922382671480143\n",
      "Entertainment;Music & Video :  0.16922382671480143\n",
      "Casual;Brain Games :  0.13537906137184114\n",
      "Casual;Action & Adventure :  0.13537906137184114\n",
      "Arcade;Action & Adventure :  0.12409747292418773\n",
      "Action;Action & Adventure :  0.10153429602888085\n",
      "Educational;Pretend Play :  0.09025270758122744\n",
      "Simulation;Action & Adventure :  0.078971119133574\n",
      "Parenting;Education :  0.078971119133574\n",
      "Entertainment;Brain Games :  0.078971119133574\n",
      "Board;Brain Games :  0.078971119133574\n",
      "Parenting;Music & Video :  0.06768953068592057\n",
      "Educational;Brain Games :  0.06768953068592057\n",
      "Casual;Creativity :  0.06768953068592057\n",
      "Art & Design;Creativity :  0.06768953068592057\n",
      "Education;Pretend Play :  0.056407942238267145\n",
      "Role Playing;Pretend Play :  0.04512635379061372\n",
      "Education;Creativity :  0.04512635379061372\n",
      "Role Playing;Action & Adventure :  0.033844765342960284\n",
      "Puzzle;Action & Adventure :  0.033844765342960284\n",
      "Entertainment;Creativity :  0.033844765342960284\n",
      "Entertainment;Action & Adventure :  0.033844765342960284\n",
      "Educational;Creativity :  0.033844765342960284\n",
      "Educational;Action & Adventure :  0.033844765342960284\n",
      "Education;Music & Video :  0.033844765342960284\n",
      "Education;Brain Games :  0.033844765342960284\n",
      "Education;Action & Adventure :  0.033844765342960284\n",
      "Adventure;Action & Adventure :  0.033844765342960284\n",
      "Video Players & Editors;Music & Video :  0.02256317689530686\n",
      "Sports;Action & Adventure :  0.02256317689530686\n",
      "Simulation;Pretend Play :  0.02256317689530686\n",
      "Puzzle;Creativity :  0.02256317689530686\n",
      "Music;Music & Video :  0.02256317689530686\n",
      "Entertainment;Pretend Play :  0.02256317689530686\n",
      "Casual;Education :  0.02256317689530686\n",
      "Board;Action & Adventure :  0.02256317689530686\n",
      "Video Players & Editors;Creativity :  0.01128158844765343\n",
      "Trivia;Education :  0.01128158844765343\n",
      "Travel & Local;Action & Adventure :  0.01128158844765343\n",
      "Tools;Education :  0.01128158844765343\n",
      "Strategy;Education :  0.01128158844765343\n",
      "Strategy;Creativity :  0.01128158844765343\n",
      "Strategy;Action & Adventure :  0.01128158844765343\n",
      "Simulation;Education :  0.01128158844765343\n",
      "Role Playing;Brain Games :  0.01128158844765343\n",
      "Racing;Pretend Play :  0.01128158844765343\n",
      "Puzzle;Education :  0.01128158844765343\n",
      "Parenting;Brain Games :  0.01128158844765343\n",
      "Music & Audio;Music & Video :  0.01128158844765343\n",
      "Lifestyle;Pretend Play :  0.01128158844765343\n",
      "Lifestyle;Education :  0.01128158844765343\n",
      "Health & Fitness;Education :  0.01128158844765343\n",
      "Health & Fitness;Action & Adventure :  0.01128158844765343\n",
      "Entertainment;Education :  0.01128158844765343\n",
      "Communication;Creativity :  0.01128158844765343\n",
      "Comics;Creativity :  0.01128158844765343\n",
      "Casual;Music & Video :  0.01128158844765343\n",
      "Card;Action & Adventure :  0.01128158844765343\n",
      "Books & Reference;Education :  0.01128158844765343\n",
      "Art & Design;Pretend Play :  0.01128158844765343\n",
      "Art & Design;Action & Adventure :  0.01128158844765343\n",
      "Arcade;Pretend Play :  0.01128158844765343\n",
      "Adventure;Education :  0.01128158844765343\n"
     ]
    }
   ],
   "source": [
    "display_table(android_final, -4) # Genres"
   ]
  },
  {
   "cell_type": "markdown",
   "id": "65241b6c",
   "metadata": {},
   "source": [
    "### Most popular apps by genre on the App Store"
   ]
  },
  {
   "cell_type": "markdown",
   "id": "59552d2d",
   "metadata": {},
   "source": [
    "One way to find out what genres are the most popular (have the most users) is to calculate the average number of installs for each app genre. For the Google Play data set, we can find this information in the `Installs` column, but this information is missing for the App Store data set. As a workaround, we'll take the total number of user ratings as a proxy, which we can find in the `rating_count_tot` app.</p>\n",
    "Let's start with calculating the average number of user ratings per app genre on the App Store. "
   ]
  },
  {
   "cell_type": "code",
   "execution_count": 78,
   "id": "f9116e17",
   "metadata": {},
   "outputs": [
    {
     "name": "stdout",
     "output_type": "stream",
     "text": [
      "[(71548.34905660378, 'Social Networking'), (28441.54375, 'Photo & Video'), (22788.6696905016, 'Games'), (57326.530303030304, 'Music'), (74942.11111111111, 'Reference'), (23298.015384615384, 'Health & Fitness'), (52279.892857142855, 'Weather'), (18684.456790123455, 'Utilities'), (28243.8, 'Travel'), (26919.690476190477, 'Shopping'), (21248.023255813954, 'News'), (86090.33333333333, 'Navigation'), (16485.764705882353, 'Lifestyle'), (14029.830708661417, 'Entertainment'), (33333.92307692308, 'Food & Drink'), (23008.898550724636, 'Sports'), (39758.5, 'Book'), (31467.944444444445, 'Finance'), (7003.983050847458, 'Education'), (21028.410714285714, 'Productivity'), (7491.117647058823, 'Business'), (4004.0, 'Catalogs'), (612.0, 'Medical')]\n",
      "\n",
      "\n",
      "Navigation :  86090.33333333333\n",
      "Reference :  74942.11111111111\n",
      "Social Networking :  71548.34905660378\n",
      "Music :  57326.530303030304\n",
      "Weather :  52279.892857142855\n",
      "Book :  39758.5\n",
      "Food & Drink :  33333.92307692308\n",
      "Finance :  31467.944444444445\n",
      "Photo & Video :  28441.54375\n",
      "Travel :  28243.8\n",
      "Shopping :  26919.690476190477\n",
      "Health & Fitness :  23298.015384615384\n",
      "Sports :  23008.898550724636\n",
      "Games :  22788.6696905016\n",
      "News :  21248.023255813954\n",
      "Productivity :  21028.410714285714\n",
      "Utilities :  18684.456790123455\n",
      "Lifestyle :  16485.764705882353\n",
      "Entertainment :  14029.830708661417\n",
      "Business :  7491.117647058823\n",
      "Education :  7003.983050847458\n",
      "Catalogs :  4004.0\n",
      "Medical :  612.0\n"
     ]
    }
   ],
   "source": [
    "genres_ios = freq_table(ios_final, -5)\n",
    "ios_genres_by_rating_count_tot = []\n",
    "\n",
    "for genre in genres_ios:\n",
    "    total = 0\n",
    "    len_genre = 0\n",
    "    \n",
    "    for app in ios_final:\n",
    "        genre_app = app[-5]\n",
    "        if genre_app == genre:\n",
    "            total += float(app[5])\n",
    "            len_genre += 1\n",
    "    avg_n_ratings = total / len_genre\n",
    "    genre_rating_count_tuple = (avg_n_ratings, genre)\n",
    "            \n",
    "    ios_genres_by_rating_count_tot.append(genre_rating_count_tuple)\n",
    "print(ios_genres_by_rating_count_tot)\n",
    "print('\\n')\n",
    "\n",
    "ios_genres_by_rating_count_tot_sorted = sorted(ios_genres_by_rating_count_tot, reverse=True)\n",
    "    \n",
    "for entry in ios_genres_by_rating_count_tot_sorted:\n",
    "    print(entry[1], ': ', entry[0])"
   ]
  },
  {
   "cell_type": "markdown",
   "id": "7f0d0940",
   "metadata": {},
   "source": [
    "Navigation, Reference, and Social Networking are top 3 genres with the highest number of user reviews in the App Store."
   ]
  },
  {
   "cell_type": "markdown",
   "id": "8e8fb670",
   "metadata": {},
   "source": [
    "### Most popular apps by genre on Google Play"
   ]
  },
  {
   "cell_type": "code",
   "execution_count": 94,
   "id": "428d5a08",
   "metadata": {},
   "outputs": [
    {
     "name": "stdout",
     "output_type": "stream",
     "text": [
      "COMMUNICATION : 38456119.167247385\n",
      "VIDEO_PLAYERS : 24727872.452830188\n",
      "SOCIAL : 23253652.127118643\n",
      "PHOTOGRAPHY : 17840110.40229885\n",
      "PRODUCTIVITY : 16787331.344927534\n",
      "GAME : 15588015.603248259\n",
      "TRAVEL_AND_LOCAL : 13984077.710144928\n",
      "ENTERTAINMENT : 11640705.88235294\n",
      "TOOLS : 10801391.298666667\n",
      "NEWS_AND_MAGAZINES : 9549178.467741935\n",
      "BOOKS_AND_REFERENCE : 8767811.894736841\n",
      "SHOPPING : 7036877.311557789\n",
      "PERSONALIZATION : 5201482.6122448975\n",
      "WEATHER : 5074486.197183099\n",
      "HEALTH_AND_FITNESS : 4188821.9853479853\n",
      "MAPS_AND_NAVIGATION : 4056941.7741935486\n",
      "FAMILY : 3695641.8198090694\n",
      "SPORTS : 3638640.1428571427\n",
      "ART_AND_DESIGN : 1986335.0877192982\n",
      "FOOD_AND_DRINK : 1924897.7363636363\n",
      "EDUCATION : 1833495.145631068\n",
      "BUSINESS : 1712290.1474201474\n",
      "LIFESTYLE : 1437816.2687861272\n",
      "FINANCE : 1387692.475609756\n",
      "HOUSE_AND_HOME : 1331540.5616438356\n",
      "DATING : 854028.8303030303\n",
      "COMICS : 817657.2727272727\n",
      "AUTO_AND_VEHICLES : 647317.8170731707\n",
      "LIBRARIES_AND_DEMO : 638503.734939759\n",
      "PARENTING : 542603.6206896552\n",
      "BEAUTY : 513151.88679245283\n",
      "EVENTS : 253542.22222222222\n",
      "MEDICAL : 120550.61980830671\n"
     ]
    }
   ],
   "source": [
    "categories_android = freq_table(android_final, 1)\n",
    "android_category_by_installs = []\n",
    "\n",
    "for category in categories_android:\n",
    "    total = 0\n",
    "    len_category = 0\n",
    "    \n",
    "    for app in android_final:\n",
    "        category_app = app[1]\n",
    "        if category_app == category:\n",
    "            total += float(app[5].replace('+', '').replace(',', ''))\n",
    "            len_category += 1\n",
    "    avg_n_installs = total / len_category\n",
    "    category_installs_tuple = (avg_n_installs, category)\n",
    "    android_category_by_installs.append(category_installs_tuple)\n",
    "    \n",
    "android_category_by_installs_sorted = sorted(android_category_by_installs, reverse=True)\n",
    "\n",
    "for entry in android_category_by_installs_sorted:\n",
    "    print(entry[1], ':', entry[0])"
   ]
  },
  {
   "cell_type": "markdown",
   "id": "c87c33b8",
   "metadata": {},
   "source": [
    "COMMUNICATION, VIDEO_PLAYERS, and SOCIAL are top 3 genres with the highest number of user reviews in the Google Play."
   ]
  }
 ],
 "metadata": {
  "kernelspec": {
   "display_name": "Python 3 (ipykernel)",
   "language": "python",
   "name": "python3"
  },
  "language_info": {
   "codemirror_mode": {
    "name": "ipython",
    "version": 3
   },
   "file_extension": ".py",
   "mimetype": "text/x-python",
   "name": "python",
   "nbconvert_exporter": "python",
   "pygments_lexer": "ipython3",
   "version": "3.9.7"
  }
 },
 "nbformat": 4,
 "nbformat_minor": 5
}
